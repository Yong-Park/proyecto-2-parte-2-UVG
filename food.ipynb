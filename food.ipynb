{
 "metadata": {
  "language_info": {
   "codemirror_mode": {
    "name": "ipython",
    "version": 3
   },
   "file_extension": ".py",
   "mimetype": "text/x-python",
   "name": "python",
   "nbconvert_exporter": "python",
   "pygments_lexer": "ipython3",
   "version": "3.8.1"
  },
  "orig_nbformat": 2,
  "kernelspec": {
   "name": "python381jvsc74a57bd0c65f7d4f24d3f6ff82d5c674af003ea8c9531287497e70115d76ce9d4d1c0b6a",
   "display_name": "Python 3.8.1 32-bit"
  },
  "metadata": {
   "interpreter": {
    "hash": "c65f7d4f24d3f6ff82d5c674af003ea8c9531287497e70115d76ce9d4d1c0b6a"
   }
  }
 },
 "nbformat": 4,
 "nbformat_minor": 2,
 "cells": [
  {
   "cell_type": "code",
   "execution_count": 8,
   "metadata": {},
   "outputs": [],
   "source": [
    "#codigo obtenido de https://github.com/discover-python/PYTHON_NEO4J/blob/main/Upload%20data%20into%20neo4j%20with%20Python.ipynb\n",
    "#generar las comidas en el neo4j\n",
    "import numpy as np\n",
    "import random\n",
    "import pandas as pd\n",
    "\n",
    "df = pd.read_csv(\"export.csv\")"
   ]
  },
  {
   "cell_type": "code",
   "execution_count": 9,
   "metadata": {},
   "outputs": [],
   "source": [
    "\n",
    "####### import data into neo4j ##### \n",
    "from neo4j import GraphDatabase\n",
    "\n",
    "transaction_list = df.values.tolist()\n",
    "\n",
    "transaction_execution_commands = []\n",
    "\n",
    "for i in transaction_list:\n",
    "    neo4j_create_statemenet = \"create (t:Platos {food: '\" + str(i[0]) +\"', price: '\" + str(i[1]) +\"', time: '\" + str(i[2]) +\"',nutrition: '\" + str(i[3]) + \"', relation: '\" + str(i[4]) + \"'})\"\n",
    "    transaction_execution_commands.append(neo4j_create_statemenet)\n",
    "    \n",
    "def execute_transactions(transaction_execution_commands):\n",
    "    data_base_connection = GraphDatabase.driver(uri = \"bolt://34.205.171.52:7687\", auth=(\"neo4j\", \"light-mirrors-plants\"))\n",
    "    session = data_base_connection.session()    \n",
    "    for i in transaction_execution_commands:\n",
    "        session.run(i)\n",
    "\n",
    "execute_transactions(transaction_execution_commands)\n"
   ]
  }
 ]
}