{
 "metadata": {
  "language_info": {
   "codemirror_mode": {
    "name": "ipython",
    "version": 3
   },
   "file_extension": ".py",
   "mimetype": "text/x-python",
   "name": "python",
   "nbconvert_exporter": "python",
   "pygments_lexer": "ipython3",
   "version": "3.8.6"
  },
  "orig_nbformat": 2,
  "kernelspec": {
   "name": "python386jvsc74a57bd02db524e06e9f5f4ffedc911c917cb75e12dbc923643829bf417064a77eb14d37",
   "display_name": "Python 3.8.6 64-bit"
  },
  "metadata": {
   "interpreter": {
    "hash": "2db524e06e9f5f4ffedc911c917cb75e12dbc923643829bf417064a77eb14d37"
   }
  }
 },
 "nbformat": 4,
 "nbformat_minor": 2,
 "cells": [
  {
   "cell_type": "code",
   "execution_count": 79,
   "metadata": {},
   "outputs": [],
   "source": [
    "#generar las comidas en el neo4j\n",
    "import numpy as np\n",
    "import random\n",
    "import pandas as pd\n",
    "\n",
    "df = pd.read_csv(\"export.csv\")"
   ]
  },
  {
   "cell_type": "code",
   "execution_count": 80,
   "metadata": {},
   "outputs": [
    {
     "output_type": "stream",
     "name": "stdout",
     "text": [
      "['create (t:Platos {food:pizza, price:alto medio bajo, time:rapido medio lento,nutrition:media alta, relation:carne})', 'create (t:Platos {food:sushi, price:alto medio bajo, time:rapido medio,nutrition:alta media, relation:mariscos})', 'create (t:Platos {food:pasta, price:alto medio, time:medio lento,nutrition:media, relation:carne pan})', 'create (t:Platos {food:lasagna, price:medio bajo, time:rapido medio lento,nutrition:media alta, relation:pan carne})']\n"
     ]
    }
   ],
   "source": [
    "\n",
    "####### import data into neo4j ##### \n",
    "from neo4j import GraphDatabase\n",
    "import csv\n",
    "\n",
    "transaction_list = df.values.tolist()\n",
    "\n",
    "transaction_execution_commands = []\n",
    "\n",
    "for i in transaction_list:\n",
    "    neo4j_create_statemenet = \"create (t:Platos {food:\" + str(i[0]) +\", price:\" + str(i[1]) +\", time:\" + str(i[2]) +\",nutrition:\" + str(i[3]) + \", relation:\" + str(i[4]) + \"})\"\n",
    "    transaction_execution_commands.append(neo4j_create_statemenet)\n",
    "    \n",
    "def execute_transactions(transaction_execution_commands):\n",
    "    data_base_connection = GraphDatabase.driver(uri = \"bolt://localhost:7687\", auth=(\"neo4j\", \"password\"))\n",
    "    session = data_base_connection.session()    \n",
    "    for i in transaction_execution_commands:\n",
    "        session.run(i)\n",
    "print(transaction_execution_commands[:4])\n",
    "#execute_transactions(transaction_execution_commands)\n"
   ]
  }
 ]
}